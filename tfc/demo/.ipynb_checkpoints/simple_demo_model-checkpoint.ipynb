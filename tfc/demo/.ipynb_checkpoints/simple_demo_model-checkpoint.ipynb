{
 "cells": [
  {
   "cell_type": "code",
   "execution_count": 2,
   "metadata": {},
   "outputs": [],
   "source": [
    "import keras\n",
    "import tensorflow as tf\n",
    "import numpy as np"
   ]
  },
  {
   "cell_type": "code",
   "execution_count": 3,
   "metadata": {},
   "outputs": [],
   "source": [
    "# build dummy model that just does random multiplication\n",
    "# this works for the following ldmd.conf entry: \n",
    "#     REQUEST UNIWISC|NIMAGE \"OR_ABI-L2-CMIPPR-M6C09_G1[67].*\" iddc.unidata.ucar.edu\n",
    "mult = np.ones((1, 976))*0.9\n",
    "input1 = tf.keras.layers.Input(shape=(870,976))\n",
    "out = tf.keras.layers.multiply([input1, mult])\n",
    "model = tf.keras.models.Model(inputs=input1, outputs=out)"
   ]
  },
  {
   "cell_type": "code",
   "execution_count": 4,
   "metadata": {},
   "outputs": [
    {
     "name": "stdout",
     "output_type": "stream",
     "text": [
      "WARNING:tensorflow:Compiled the loaded model, but the compiled metrics have yet to be built. `model.compile_metrics` will be empty until you train or evaluate the model.\n",
      "INFO:tensorflow:Assets written to: models/model/1/assets\n"
     ]
    },
    {
     "name": "stderr",
     "output_type": "stream",
     "text": [
      "/Users/rmcmahon/opt/anaconda3/envs/ml_playground/lib/python3.6/site-packages/keras/utils/generic_utils.py:497: CustomMaskWarning: Custom mask layers require a config and must override get_config. When loading, the custom mask layer must be passed to the custom_objects argument.\n",
      "  category=CustomMaskWarning)\n"
     ]
    }
   ],
   "source": [
    "model.save(\"models/model/1\")  # version number is required"
   ]
  },
  {
   "cell_type": "code",
   "execution_count": 5,
   "metadata": {},
   "outputs": [
    {
     "data": {
      "text/plain": [
       "array([[[0.9, 0.9, 0.9, ..., 0.9, 0.9, 0.9],\n",
       "        [0.9, 0.9, 0.9, ..., 0.9, 0.9, 0.9],\n",
       "        [0.9, 0.9, 0.9, ..., 0.9, 0.9, 0.9],\n",
       "        ...,\n",
       "        [0.9, 0.9, 0.9, ..., 0.9, 0.9, 0.9],\n",
       "        [0.9, 0.9, 0.9, ..., 0.9, 0.9, 0.9],\n",
       "        [0.9, 0.9, 0.9, ..., 0.9, 0.9, 0.9]]], dtype=float32)"
      ]
     },
     "execution_count": 5,
     "metadata": {},
     "output_type": "execute_result"
    }
   ],
   "source": [
    "model.predict(np.ones((1, 870,976)))"
   ]
  },
  {
   "cell_type": "code",
   "execution_count": null,
   "metadata": {},
   "outputs": [],
   "source": []
  }
 ],
 "metadata": {
  "kernelspec": {
   "display_name": "Python (myenv)",
   "language": "python",
   "name": "ml_playground"
  },
  "language_info": {
   "codemirror_mode": {
    "name": "ipython",
    "version": 3
   },
   "file_extension": ".py",
   "mimetype": "text/x-python",
   "name": "python",
   "nbconvert_exporter": "python",
   "pygments_lexer": "ipython3",
   "version": "3.6.13"
  }
 },
 "nbformat": 4,
 "nbformat_minor": 4
}
